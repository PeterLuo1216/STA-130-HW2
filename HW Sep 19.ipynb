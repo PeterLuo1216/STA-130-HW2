{
 "cells": [
  {
   "cell_type": "markdown",
   "id": "acaa613b",
   "metadata": {},
   "source": [
    "1: The Monte Hall Simulation Code:"
   ]
  },
  {
   "cell_type": "code",
   "execution_count": null,
   "id": "14bee9b5",
   "metadata": {},
   "outputs": [],
   "source": [
    "# Monte Hall Simulation Code -- not the only way to code this, but it's what Prof. Schwartz came up with...\n",
    "\n",
    "import numpy as np\n",
    "all_door_options = (1,2,3)  # tuple\n",
    "my_door_choice = 1  # 1,2,3\n",
    "i_won = 0\n",
    "reps = 100000\n",
    "for i in range(reps):\n",
    "    secret_winning_door = np.random.choice(all_door_options)\n",
    "    all_door_options_list = list(all_door_options)\n",
    "    # take the secret_winning_door, so we don't show it as a \"goat\" losing door\n",
    "    all_door_options_list.remove(secret_winning_door)\n",
    "    try:\n",
    "        # if my_door_choice was secret_winning_door then it's already removed\n",
    "        all_door_options_list.remove(my_door_choice)\n",
    "    except:\n",
    "        pass\n",
    "    # show a \"goat\" losing door and remove it\n",
    "    goat_door_reveal = np.random.choice(all_door_options_list)\n",
    "    all_door_options_list.remove(goat_door_reveal)\n",
    "\n",
    "    # put the secret_winning_door back in if it wasn't our choice\n",
    "    # we previously removed it, so it would be shown as a  \"goat\" losing door\n",
    "    if secret_winning_door != my_door_choice:\n",
    "        all_door_options_list.append(secret_winning_door)\n",
    "    # if secret_winning_door was our choice then all that's left in the list is a \"goat\" losing door\n",
    "    # if secret_winning_door wasn't our choice then it's all that will be left in the list\n",
    "\n",
    "    # swap strategy\n",
    "    my_door_choice = all_door_options_list[0]\n",
    "\n",
    "    if my_door_choice == secret_winning_door:\n",
    "        i_won += 1\n",
    "\n",
    "i_won/reps"
   ]
  },
  {
   "cell_type": "markdown",
   "id": "006596e9",
   "metadata": {},
   "source": [
    "2: Extend your ChatBot sessions to now address part \"3(b)\" of the TUT Demo and interact with your ChatBot to see if it can \n",
    "suggest a simpler, more streamlined way to code up this for loop simulation so the process is more clear and easier to \n",
    "understand; then, describe any preferences you have in terms of readibility or explainability between the original code and the\n",
    "code improvements suggested by the ChatBot:"
   ]
  },
  {
   "cell_type": "markdown",
   "id": "55c1f2f7",
   "metadata": {},
   "source": [
    "The updates code is much clearer and simpler. It’s easier to follow and understand because it’s more straightforward. The improved layout makes it simpler to see how everything works, making the whole thing more user-friendly and less confusing.\n",
    "\n"
   ]
  },
  {
   "cell_type": "markdown",
   "id": "763cb1b4",
   "metadata": {},
   "source": [
    "3: Submit your preferred version of the Monty Hall problem that is verified to be running and working with a final printed output of the code; then, add code comments explaining the purpose of each line of the code:"
   ]
  },
  {
   "cell_type": "code",
   "execution_count": null,
   "id": "c64d9608",
   "metadata": {},
   "outputs": [],
   "source": [
    "import numpy as np\n",
    "\n",
    "# Initialize variables\n",
    "reps = 100000  # Number of repetitions\n",
    "wins = 0       # Counter for wins\n",
    "\n",
    "for i in range(reps):\n",
    "    # Randomly assign the prize to one of the three doors\n",
    "    winning_door = np.random.randint(1, 4)\n",
    "    \n",
    "    # Contestant's initial choice is always door 1\n",
    "    initial_choice = 1\n",
    "    \n",
    "    # Monty opens a door (neither the winning door nor the contestant's choice)\n",
    "    available_doors = [door for door in (1, 2, 3) if door != initial_choice and door != winning_door]\n",
    "    monty_opens = np.random.choice(available_doors)\n",
    "    \n",
    "    # Contestant always switches to the remaining unopened door\n",
    "    remaining_door = [door for door in (1, 2, 3) if door != initial_choice and door != monty_opens][0]\n",
    "    \n",
    "    # Check if the contestant wins after switching\n",
    "    if remaining_door == winning_door:\n",
    "        wins += 1\n",
    "\n",
    "# Calculate the win rate\n",
    "win_rate = wins / reps\n",
    "win_rate\n"
   ]
  },
  {
   "cell_type": "markdown",
   "id": "0d2dd080",
   "metadata": {},
   "source": [
    "4: Watch the embedded video tutorial on Markov chains in the next Jupyter cell below to understand their application and relevance for ChatBots; then, after watching the video, start a new ChatBot session by prompting that you have code that creates a \"Markovian ChatBot\"; show it the first version of the \"Markovian ChatBot code\" below; and interact with the ChatBot session to make sure you understand how the original first version of the \"Markovian ChatBot code\" works"
   ]
  },
  {
   "cell_type": "markdown",
   "id": "e71de9d5",
   "metadata": {},
   "source": [
    "Summary:\n",
    "    \n",
    "\n",
    "Markov Chain Model Basics:\n",
    "\n",
    "Purpose: A Markov chain model helps in generating sequences of words based on the probability of one word following another.\n",
    "Code Overview: The provided code snippet tracks word usage and the likelihood of one word following another to build a simple Markov model.\n",
    "Adapting for Stories with Characters:\n",
    "\n",
    "Complexity: With multiple characters and interactions, you can enhance the model to handle character names and their dialogues more effectively.\n",
    "Generating Text:\n",
    "\n",
    "Example Code: We discussed how to modify the basic Markov model to generate text. This involves tokenizing sentences, building a model of word transitions, and using it to produce new sequences based on a starting word.\n",
    "Improvements: For a more sophisticated model, consider using n-grams (sequences of words) and handling character-specific interactions.\n",
    "\n",
    "Link:https://chatgpt.com/share/66ea4268-4820-8012-ad89-e110a2bc1e6b"
   ]
  },
  {
   "cell_type": "markdown",
   "id": "b42acc54",
   "metadata": {},
   "source": [
    "5: Recreate (or resume) the previous ChatBot session from question \"4\" above, and now prompt the ChatBot session that you have a couple extensions of the code to show it, and then show it each of the extentions of the \"Markovian ChatBot code\" below in turn\n",
    "\n",
    "(1): Without just supplying your ChatBot session with the answers, see if the ChatBot can figure out what the extensions in the code do; namely, making character specific Markov chains, and using bigrams (rather than just the previous word alone) dependency... prompt your ChatBot session with some hints if it's not seeming to \"get it\"\n",
    "\n",
    "\n",
    "(2): Interact with your ChatBot session to have it explain details of the code wherever you need help understanding what the code is doing and how it works"
   ]
  },
  {
   "cell_type": "code",
   "execution_count": null,
   "id": "f103e863",
   "metadata": {},
   "outputs": [],
   "source": [
    "Link of the conversation: https://chatgpt.com/share/66ea49e2-cd0c-8012-b495-9edbb295c668"
   ]
  },
  {
   "cell_type": "markdown",
   "id": "298a3892",
   "metadata": {},
   "source": [
    "(3): Start yet another new ChatBot session and first show the ChatBot the original \"Markovian ChatBot code\" below, and then tell ChatBot that you have an extension but this time just directly provide it the more complicated final extension without ever providing the intermediate extension code to the ChatBot session and see if it's still able to understand everything extension does; namely, making character specific Markov chains, and using bigrams (rather than just the previous word alone) dependency... prompt the ChatBot with some hints if it's not seeming to understand what you're getting at..."
   ]
  },
  {
   "cell_type": "code",
   "execution_count": null,
   "id": "44b12746",
   "metadata": {},
   "outputs": [],
   "source": [
    " Link of the conversation: https://chatgpt.com/share/66ea4a28-48a4-8012-91dd-b97fc2d0237d"
   ]
  },
  {
   "cell_type": "markdown",
   "id": "52ca93c2",
   "metadata": {},
   "source": [
    "6: Report on your experience interacting with ChatBots to understand the Monte Hall problem and \"Markovian ChatBot\" code\n",
    "\n",
    "(1): Discuss how quickly the ChatBot was able to be helpful for each of the above questions, and if so, how?\n",
    "\n",
    "\n",
    "(2): Discuss whether or not interacting with ChatBot to try to figure things out was frustrating or unhelpful, and if so, how?\n",
    "\n",
    "\n",
    "(3): Based on your experiences to date (e.g., including using ChatBots to troubleshoot coding errors in the previous homework), provide an overall assessment evaluating the usefulness of ChatBots as tools to help you understand code"
   ]
  },
  {
   "cell_type": "markdown",
   "id": "11a94bf7",
   "metadata": {},
   "source": [
    "(1): Discuss how quickly the ChatBot was able to be helpful for each of the above questions, and if so, how?\n",
    "\n",
    "Chatbot responded to me very quickly by explaining me every row of codes and the role each one plays in the structure, also , it explains the purpose of each dictionary and the loop operations. After that, It shows me example (just like \"using a series of stories with a lot of different characters\" we discussed above to help me get a better understanding of the code. Lastly, It summarize the conclusion of what we discussed and every key point are well-organized, so that I can look through them.\n",
    "\n",
    "(2): Discuss whether or not interacting with ChatBot to try to figure things out was frustrating or unhelpful, and if so, how?\n",
    "\n",
    "I personally don't think interacting with Chatbot to solve problems was frustrating since most of time, it acurately catched my point and provided really detailed explaination without leading to any further confusion. Additionally, the chatbot is the most convient way to ask for help, which really saved me so much time for going to Officer Hours or ask friends.\n",
    "\n",
    "(3): Based on your experiences to date (e.g., including using ChatBots to troubleshoot coding errors in the previous homework), provide an overall assessment evaluating the usefulness of ChatBots as tools to help you understand code.\n",
    "\n",
    "While chatbots are a great tool for quick assistance, they work best when used in conjunction with human experts who can provide more in-depth and personalized help. Overall, chatbots are quite helpful for quickly answering questions and explaining concepts related to coding. However, they can struggle to understand complex details or engage in detailed back-and-forth discussions."
   ]
  },
  {
   "cell_type": "markdown",
   "id": "a0d02619",
   "metadata": {},
   "source": [
    "7: Reflect on your experience interacting with ChatBot and describe how your perception of AI-driven assistance tools in the context of learning coding, statistics, and data science has been evolving (or not) since joining the course."
   ]
  },
  {
   "cell_type": "markdown",
   "id": "55f2d54c",
   "metadata": {},
   "source": [
    "Since joining this course, I started using Chatbot to explain me the function of code, coding structures, dataset examples and sometimes, the terminologies about Python. My perception has not really changed a alot since I always consider the Chatbot as the most authoritative, accurate, and efficient learning tool, aside from consulting professors. In most of my experiences, both past and present, ChatGPT has maintained a high level of accuracy in understanding my questions and addressing my concerns. It sometimes messed things up (demonstrate writing some proofs in Math), but other than that, it sloves my problems about coding perfectly."
   ]
  },
  {
   "cell_type": "markdown",
   "id": "ae791c14",
   "metadata": {},
   "source": [
    "8: ChatBots consume text data available on the web or platforms, and thus represents a new way to \"search consensensus\" that condenses and summarizes mainstream human thought\n",
    "\n",
    "（1）：Start a new ChatBot session and discuss the relevance of learning and adaptability, communication, coding, and statistics and data analysis as skills in the modern world, especially with respect to career opportunities (particularly in the context of the data science industry)\n",
    "\n",
    "Link of what we talked: https://chatgpt.com/share/66eb38f3-6b78-8012-b229-28621a86f115"
   ]
  },
  {
   "cell_type": "markdown",
   "id": "99f1824b",
   "metadata": {},
   "source": [
    "(2): See if ChatBot thinks you could be a statistician or data scientist without coding or doing data analysis, and then transition your ChatBot conversation into a career exploration discussion, using the ChatBot to identify the skills that might be the most valuable for a career that you're interested.\n",
    "\n",
    "Chatbot thinks I am a  data scientist/machine learning engineer/data analyst.\n",
    "Link: https://chatgpt.com/share/66eb38f3-6b78-8012-b229-28621a86f115"
   ]
  },
  {
   "cell_type": "markdown",
   "id": "c6fc207e",
   "metadata": {},
   "source": [
    "(3): Ask for a summary of this ChatBot session and paste it into your homework notebook (including link(s) to chat log histories if you're using ChatBot)\n",
    "\n",
    "We discussed the key skills needed for success in the modern world, especially in the data science industry. These include:\n",
    "\n",
    "Learning and Adaptability – the ability to quickly learn and apply new technologies and techniques is crucial due to the rapidly evolving nature of data science.\n",
    "Communication – translating complex technical analyses into actionable insights for non-technical stakeholders is essential for driving business decisions.\n",
    "Coding – proficiency in programming languages like Python, R, and SQL is necessary for data manipulation, building models, and implementing solutions.\n",
    "Statistics and Data Analysis – strong statistical knowledge is vital for making sense of data and ensuring models are reliable.\n",
    "We then explored how these skills interconnect and how mastering them opens up career opportunities across various industries. When asked about the most valuable skill for a data scientist, we concluded that having a strong problem-solving mindset combined with statistical and analytical thinking is the key. This allows data scientists to frame business problems as data problems, apply appropriate techniques, and communicate insights effectively.\n",
    "\n",
    "Link: https://chatgpt.com/share/66eb38f3-6b78-8012-b229-28621a86f115"
   ]
  },
  {
   "cell_type": "markdown",
   "id": "3e371996",
   "metadata": {},
   "source": [
    "(4): Paraphrase the assessments and conclusions of your conversation in the form of a reflection on your current thoughts regarding your potential future career(s) and how you can go about building the skills you need to pursue it:"
   ]
  },
  {
   "cell_type": "markdown",
   "id": "d50ddd86",
   "metadata": {},
   "source": [
    "Generally speaking, when look ahead to my future in data science, a few things stick out. First, I need to keep learning and adjusting because the field is constantly changing. Staying current with new tools and processes is critical, therefore I must be willing to adapt change and learn new things.\n",
    "\n",
    "Be proficient with languages like Python or R is really important for data analysis, model building, and some other statistic work. Better coding abilities will also lead to more work chances in numerous industries.\n",
    "\n",
    "Finally, problem solving and analytical thinking are important to everything. I need to figure out how to address some complex challenges with data and ensure that my insights are correct. Understanding statistics will help with this.\n",
    "\n",
    "So, focusing on studying, coding, communicating well, and problem solving will help me advance in data science or any other field I wish to pursue."
   ]
  },
  {
   "cell_type": "markdown",
   "id": "3e60af33",
   "metadata": {},
   "source": [
    "(5): Give your thoughts regarding the helpfulness or limitations of your conversation with a ChatBot, and describe the next steps you would take to pursue this conversation further if you felt the information the ChatBot provides was somewhat high level and general, and perhaps lacked the depth and detailed knowledge of a dedicated subject matter expert who had really take the time to understand the ins and outs of the industry and career path in question."
   ]
  },
  {
   "cell_type": "markdown",
   "id": "c2de4705",
   "metadata": {},
   "source": [
    "The chatbo, in my opinion, is the most authoritative, accurate, and efficient learning tool, aside from consulting professors. It immidiately answer my questions and provide me with basic help. But for more detailed and personalized help, I would talk to my professor, disscuss questions with the TAs and join the UofT RSGs and get feedback."
   ]
  },
  {
   "cell_type": "markdown",
   "id": "0cb18f2b",
   "metadata": {},
   "source": [
    "9: Have you reviewed the course wiki-textbook and interacted with a ChatBot (or, if that wasn't sufficient, real people in the course piazza discussion board or TA office hours) to help you understand all the material in the tutorial and lecture that you didn't quite follow when you first saw it?"
   ]
  },
  {
   "cell_type": "markdown",
   "id": "3bb8a9b5",
   "metadata": {},
   "source": [
    "Yes"
   ]
  }
 ],
 "metadata": {
  "kernelspec": {
   "display_name": "Python 3 (ipykernel)",
   "language": "python",
   "name": "python3"
  },
  "language_info": {
   "codemirror_mode": {
    "name": "ipython",
    "version": 3
   },
   "file_extension": ".py",
   "mimetype": "text/x-python",
   "name": "python",
   "nbconvert_exporter": "python",
   "pygments_lexer": "ipython3",
   "version": "3.11.6"
  }
 },
 "nbformat": 4,
 "nbformat_minor": 5
}
